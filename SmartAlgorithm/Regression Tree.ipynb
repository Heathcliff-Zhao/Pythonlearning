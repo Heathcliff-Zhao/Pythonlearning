{
 "cells": [
  {
   "cell_type": "code",
   "execution_count": 16,
   "metadata": {},
   "outputs": [],
   "source": [
    "import numpy as np"
   ]
  },
  {
   "cell_type": "code",
   "execution_count": 17,
   "metadata": {},
   "outputs": [],
   "source": [
    "nums=[4.50,4.75,4.91,5.34,5.80,7.05,7.90,8.23,8.70,9.00]"
   ]
  },
  {
   "cell_type": "code",
   "execution_count": 18,
   "metadata": {},
   "outputs": [],
   "source": [
    "res=[]"
   ]
  },
  {
   "cell_type": "code",
   "execution_count": 19,
   "metadata": {},
   "outputs": [],
   "source": [
    "def RegressionTree(nums, max_depth=2):\n",
    "    nums.sort()\n",
    "    nums=np.array(nums)\n",
    "    nums=nums.reshape(-1,1)\n",
    "    from sklearn.tree import DecisionTreeRegressor\n",
    "    tree_reg=DecisionTreeRegressor(max_depth=max_depth)\n",
    "    tree_reg.fit(nums,nums)\n",
    "    return tree_reg.predict(nums)"
   ]
  },
  {
   "cell_type": "code",
   "execution_count": 20,
   "metadata": {},
   "outputs": [
    {
     "data": {
      "text/plain": [
       "[array([5.06 , 5.06 , 5.06 , 5.06 , 5.06 , 8.176, 8.176, 8.176, 8.176,\n",
       "        8.176]),\n",
       " array([4.72      , 4.72      , 4.72      , 5.57      , 5.57      ,\n",
       "        7.475     , 7.475     , 8.64333333, 8.64333333, 8.64333333]),\n",
       " array([4.5 , 4.83, 4.83, 5.34, 5.8 , 7.05, 7.9 , 8.23, 8.85, 8.85]),\n",
       " array([4.5 , 4.75, 4.91, 5.34, 5.8 , 7.05, 7.9 , 8.23, 8.7 , 9.  ])]"
      ]
     },
     "execution_count": 20,
     "metadata": {},
     "output_type": "execute_result"
    }
   ],
   "source": [
    "for i in range(4):\n",
    "    res.append(RegressionTree(nums, max_depth=i+1))\n",
    "res"
   ]
  },
  {
   "cell_type": "code",
   "execution_count": 21,
   "metadata": {},
   "outputs": [
    {
     "data": {
      "text/plain": [
       "[[5], [3, 5, 7], [1, 3, 4, 5, 6, 7, 8], [1, 2, 3, 4, 5, 6, 7, 8, 9]]"
      ]
     },
     "execution_count": 21,
     "metadata": {},
     "output_type": "execute_result"
    }
   ],
   "source": [
    "segs=[]\n",
    "for fla in res:\n",
    "    seg=[]\n",
    "    i=0\n",
    "    while i < len(fla) - 1:\n",
    "        if(fla[i]!=fla[i+1]):\n",
    "            seg.append(i+1)\n",
    "        i+=1\n",
    "    segs.append(seg)\n",
    "segs"
   ]
  },
  {
   "cell_type": "code",
   "execution_count": null,
   "metadata": {},
   "outputs": [],
   "source": []
  }
 ],
 "metadata": {
  "kernelspec": {
   "display_name": "Python 3",
   "language": "python",
   "name": "python3"
  },
  "language_info": {
   "codemirror_mode": {
    "name": "ipython",
    "version": 3
   },
   "file_extension": ".py",
   "mimetype": "text/x-python",
   "name": "python",
   "nbconvert_exporter": "python",
   "pygments_lexer": "ipython3",
   "version": "3.8.1"
  },
  "orig_nbformat": 4,
  "vscode": {
   "interpreter": {
    "hash": "2469a70536e4d2335a2ea8907942d0699c37342a371ac185bdb5b0aa6f073890"
   }
  }
 },
 "nbformat": 4,
 "nbformat_minor": 2
}
