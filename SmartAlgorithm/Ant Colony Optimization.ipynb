{
 "cells": [
  {
   "cell_type": "code",
   "execution_count": 1,
   "metadata": {},
   "outputs": [],
   "source": [
    "import numpy as np\n",
    "import random\n",
    "\n",
    "class Ant:\n",
    "    def __init__(self, graph):\n",
    "        self.graph = graph\n",
    "        self.n_nodes = len(graph)\n",
    "        self.current_node = 0\n",
    "        self.path = [0]\n",
    "        self.visited = [False] * self.n_nodes\n",
    "        self.visited[0] = True\n",
    "        self.length = 0\n",
    "        \n",
    "    def choose_next_node(self, pheromones):\n",
    "        next_node = -1\n",
    "        max_value = 0\n",
    "        for i in range(self.n_nodes):\n",
    "            if self.visited[i]:\n",
    "                continue\n",
    "            value = pheromones[self.current_node][i] * (1.0 / self.graph[self.current_node][i])\n",
    "            if value > max_value:\n",
    "                next_node = i\n",
    "                max_value = value\n",
    "        return next_node\n",
    "    \n",
    "    def walk(self, pheromones):\n",
    "        self.current_node = 0\n",
    "        self.path = [0]\n",
    "        self.visited = [False] * self.n_nodes\n",
    "        self.visited[0] = True\n",
    "        self.length = 0\n",
    "        for i in range(self.n_nodes - 1):\n",
    "            next_node = self.choose_next_node(pheromones)\n",
    "            self.visited[next_node] = True\n",
    "            self.path.append(next_node)\n",
    "            self.length += self.graph[self.current_node][next_node]\n",
    "            self.current_node = next_node\n"
   ]
  },
  {
   "cell_type": "code",
   "execution_count": 2,
   "metadata": {},
   "outputs": [],
   "source": [
    "class ACO:\n",
    "    def __init__(self, graph, n_ants, n_iterations, alpha, beta):\n",
    "        self.graph = graph\n",
    "        self.n_ants = n_ants\n",
    "        self.n_iterations = n_iterations\n",
    "        self.alpha = alpha\n",
    "        self.beta = beta\n",
    "        \n",
    "    def solve(self):\n",
    "        n_nodes = len(self.graph)\n",
    "        pheromones = np.ones((n_nodes, n_nodes)) / (n_nodes * n_nodes)\n",
    "        shortest_path = None\n",
    "        shortest_path_length = float('inf')\n",
    "        for i in range(self.n_iterations):\n",
    "            ants = [Ant(self.graph) for _ in range(self.n_ants)]\n",
    "            for ant in ants:\n",
    "                ant.walk(pheromones)\n",
    "                if ant.length < shortest_path_length:\n",
    "                    shortest_path_length = ant.length\n",
    "                    shortest_path = ant.path\n",
    "            for k in range(n_nodes):\n",
    "                for j in range(n_nodes):\n",
    "                    pheromones[k][j] *= (1 - self.alpha)\n",
    "            for ant in ants:\n",
    "                for i in range(n_nodes - 1):\n",
    "                    j = i + 1\n",
    "                    k = ant.path[i]\n",
    "                    l = ant.path[j]\n",
    "                    pheromones[k][l] += self.alpha / ant.length\n",
    "                    pheromones[l][k] = pheromones[k][l]\n",
    "        return shortest_path, shortest_path_length\n"
   ]
  },
  {
   "cell_type": "code",
   "execution_count": 5,
   "metadata": {},
   "outputs": [
    {
     "name": "stdout",
     "output_type": "stream",
     "text": [
      "Shortest path: [0, 2, 1, 3]\n",
      "Shortest path length: 12\n"
     ]
    }
   ],
   "source": [
    "graph = np.array([[0, 5, 2, 4], \n",
    "                  [5, 0, 4, 6], \n",
    "                  [2, 4, 0, 6], \n",
    "                  [4, 6, 6, 0]])\n",
    "aco = ACO(graph, n_ants=10, n_iterations=100, alpha=0.1, beta=1)\n",
    "shortest_path, shortest_path_length = aco.solve()\n",
    "print(\"Shortest path:\", shortest_path)\n",
    "print(\"Shortest path length:\", shortest_path_length)\n"
   ]
  },
  {
   "cell_type": "code",
   "execution_count": null,
   "metadata": {},
   "outputs": [],
   "source": []
  }
 ],
 "metadata": {
  "kernelspec": {
   "display_name": "Python 3",
   "language": "python",
   "name": "python3"
  },
  "language_info": {
   "codemirror_mode": {
    "name": "ipython",
    "version": 3
   },
   "file_extension": ".py",
   "mimetype": "text/x-python",
   "name": "python",
   "nbconvert_exporter": "python",
   "pygments_lexer": "ipython3",
   "version": "3.8.1"
  },
  "orig_nbformat": 4,
  "vscode": {
   "interpreter": {
    "hash": "2469a70536e4d2335a2ea8907942d0699c37342a371ac185bdb5b0aa6f073890"
   }
  }
 },
 "nbformat": 4,
 "nbformat_minor": 2
}
