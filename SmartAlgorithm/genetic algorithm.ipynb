{
 "cells": [
  {
   "cell_type": "code",
   "execution_count": 1,
   "metadata": {},
   "outputs": [
    {
     "name": "stdout",
     "output_type": "stream",
     "text": [
      "[1 1 2 4 4 6 1 3 2 1]\n",
      "[9 3 3 2 6 1 0 7 0 8]\n"
     ]
    }
   ],
   "source": [
    "import numpy as np\n",
    "import random\n",
    "\n",
    "# 定义城市数量和旅游时间\n",
    "num_cities = 10\n",
    "tour_time = 7\n",
    "\n",
    "# 定义访问每个城市的时间\n",
    "city_times = np.random.randint(1, tour_time, num_cities)\n",
    "print(city_times)\n",
    "\n",
    "# 随机初始化一个旅游路线\n",
    "def init_tour():\n",
    "    tour = np.arange(num_cities)\n",
    "    np.random.shuffle(tour)\n",
    "    return tour\n",
    "\n",
    "# 计算遗传算法的适应度\n",
    "def calculate_fitness(tour):\n",
    "    tour_time_used = np.sum([city_times[city] for city in tour])\n",
    "    return num_cities - tour_time_used\n",
    "\n",
    "# 创建两个个体的后代\n",
    "def crossover(parent1, parent2):\n",
    "    child = np.zeros(num_cities, dtype=int)\n",
    "    # 随机选择一个交叉点\n",
    "    cross_point = np.random.randint(0, num_cities)\n",
    "    for i in range(cross_point):\n",
    "        child[i] = parent1[i]\n",
    "    for i in range(cross_point, num_cities):\n",
    "        child[i] = parent2[i]\n",
    "    return child\n",
    "\n",
    "# 定义遗传算法的变异操作\n",
    "def mutate(tour):\n",
    "    # 随机选择两个城市，并交换它们的位置\n",
    "    city1, city2 = np.random.randint(0, num_cities, 2)\n",
    "    tour[city1], tour[city2] = tour[city2], tour[city1]\n",
    "    return tour\n",
    "\n",
    "# 遗传算法主循环\n",
    "def genetic_algorithm():\n",
    "    population = [init_tour() for _ in range(100)]\n",
    "    for generation in range(1000):\n",
    "        fitness_values = [calculate_fitness(tour) for tour in population]\n",
    "        # 选择适应度最高的个体\n",
    "        best_tour = population[np.argmax(fitness_values)]\n",
    "        if calculate_fitness(best_tour) == num_cities:\n",
    "            # 如果找到最优解，则终止算法\n",
    "            return best_tour\n",
    "        # 选择适应度最高的个体作为父代\n",
    "        parent1, parent2 = random.choices(population, weights=fitness_values, k=2)\n",
    "        child = crossover(parent1, parent2)\n",
    "        if random.uniform(0, 1) < 0.1:\n",
    "            # 有10%的概率进行变异操作\n",
    "            child = mutate(child)\n",
    "        population.append(child)\n",
    "    return best_tour\n",
    "\n",
    "print(genetic_algorithm())\n"
   ]
  },
  {
   "cell_type": "code",
   "execution_count": 2,
   "metadata": {},
   "outputs": [
    {
     "name": "stdout",
     "output_type": "stream",
     "text": [
      "最优解: (0.017355980929437225, 0.04078184838951355)\n",
      "最优适应度值: 0.9996500793966087\n"
     ]
    }
   ],
   "source": [
    "import random\n",
    "import numpy as np\n",
    "\n",
    "# 非线性函数\n",
    "def nonlinear_function(x, y):\n",
    "    return -np.sin(np.sqrt(x**2 + y**2)) / (np.sqrt(x**2 + y**2) + 1e-6)\n",
    "\n",
    "# 计算个体的适应度值\n",
    "def calculate_fitness(individual):\n",
    "    x, y = individual\n",
    "    return -nonlinear_function(x, y)\n",
    "\n",
    "# 初始化种群\n",
    "def init_population(population_size):\n",
    "    population = []\n",
    "    for i in range(population_size):\n",
    "        x = random.uniform(-10, 10)\n",
    "        y = random.uniform(-10, 10)\n",
    "        population.append((x, y))\n",
    "    return population\n",
    "\n",
    "# 交叉操作\n",
    "def crossover(parent1, parent2):\n",
    "    alpha = random.uniform(0, 1)\n",
    "    child = (alpha * parent1[0] + (1 - alpha) * parent2[0], \n",
    "             alpha * parent1[1] + (1 - alpha) * parent2[1])\n",
    "    return child\n",
    "\n",
    "# 变异操作\n",
    "def mutate(individual):\n",
    "    x, y = individual\n",
    "    x += random.gauss(0, 1)\n",
    "    y += random.gauss(0, 1)\n",
    "    return x, y\n",
    "\n",
    "# 遗传算法主循环\n",
    "def genetic_algorithm(population_size, generations):\n",
    "    population = init_population(population_size)\n",
    "    best_fitness = -1e10\n",
    "    best_individual = None\n",
    "    for generation in range(generations):\n",
    "        fitness_values = [calculate_fitness(individual) for individual in population]\n",
    "        # 选择适应度最高的个体\n",
    "        best_fitness = max(best_fitness, max(fitness_values))\n",
    "        best_index = np.argmax(fitness_values)\n",
    "        best_individual = population[best_index]\n",
    "        # 选择适应度最高的个体作为父代\n",
    "        parent1, parent2 = random.choices(population, weights=fitness_values, k=2)\n",
    "        child = crossover(parent1, parent2)\n",
    "        if random.uniform(0, 1) < 0.1:\n",
    "            # 有10%的概率进行变异操作\n",
    "            child = mutate(child)\n",
    "        population.append(child)\n",
    "    return best_individual, best_fitness\n",
    "\n",
    "best_individual, best_fitness = genetic_algorithm(100, 1000)\n",
    "print(\"最优解:\", best_individual)\n",
    "print(\"最优适应度值:\", best_fitness)\n"
   ]
  },
  {
   "cell_type": "code",
   "execution_count": null,
   "metadata": {},
   "outputs": [],
   "source": []
  }
 ],
 "metadata": {
  "kernelspec": {
   "display_name": "Python 3",
   "language": "python",
   "name": "python3"
  },
  "language_info": {
   "codemirror_mode": {
    "name": "ipython",
    "version": 3
   },
   "file_extension": ".py",
   "mimetype": "text/x-python",
   "name": "python",
   "nbconvert_exporter": "python",
   "pygments_lexer": "ipython3",
   "version": "3.8.1"
  },
  "orig_nbformat": 4,
  "vscode": {
   "interpreter": {
    "hash": "2469a70536e4d2335a2ea8907942d0699c37342a371ac185bdb5b0aa6f073890"
   }
  }
 },
 "nbformat": 4,
 "nbformat_minor": 2
}
