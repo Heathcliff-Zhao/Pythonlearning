{
 "cells": [
  {
   "cell_type": "code",
   "execution_count": 1,
   "metadata": {},
   "outputs": [],
   "source": [
    "import requests"
   ]
  },
  {
   "cell_type": "code",
   "execution_count": 2,
   "metadata": {},
   "outputs": [
    {
     "data": {
      "text/plain": [
       "200"
      ]
     },
     "execution_count": 2,
     "metadata": {},
     "output_type": "execute_result"
    }
   ],
   "source": [
    "r=requests.get(\"http://www.baidu.com\")\n",
    "r.status_code"
   ]
  },
  {
   "cell_type": "code",
   "execution_count": 3,
   "metadata": {},
   "outputs": [
    {
     "data": {
      "text/plain": [
       "requests.models.Response"
      ]
     },
     "execution_count": 3,
     "metadata": {},
     "output_type": "execute_result"
    }
   ],
   "source": [
    "type(r)"
   ]
  },
  {
   "cell_type": "code",
   "execution_count": 4,
   "metadata": {},
   "outputs": [
    {
     "data": {
      "text/plain": [
       "{'Cache-Control': 'private, no-cache, no-store, proxy-revalidate, no-transform', 'Connection': 'keep-alive', 'Content-Encoding': 'gzip', 'Content-Type': 'text/html', 'Date': 'Sun, 27 Nov 2022 06:36:21 GMT', 'Last-Modified': 'Mon, 23 Jan 2017 13:27:36 GMT', 'Pragma': 'no-cache', 'Server': 'bfe/1.0.8.18', 'Set-Cookie': 'BDORZ=27315; max-age=86400; domain=.baidu.com; path=/', 'Transfer-Encoding': 'chunked'}"
      ]
     },
     "execution_count": 4,
     "metadata": {},
     "output_type": "execute_result"
    }
   ],
   "source": [
    "r.headers"
   ]
  },
  {
   "cell_type": "code",
   "execution_count": 5,
   "metadata": {},
   "outputs": [
    {
     "data": {
      "text/plain": [
       "'<!DOCTYPE html>\\r\\n<!--STATUS OK--><html> <head><meta http-equiv=content-type content=text/html;charset=utf-8><meta http-equiv=X-UA-Compatible content=IE=Edge><meta content=always name=referrer><link rel=stylesheet type=text/css href=http://s1.bdstatic.com/r/www/cache/bdorz/baidu.min.css><title>ç\\x99¾åº¦ä¸\\x80ä¸\\x8bï¼\\x8cä½\\xa0å°±ç\\x9f¥é\\x81\\x93</title></head> <body link=#0000cc> <div id=wrapper> <div id=head> <div class=head_wrapper> <div class=s_form> <div class=s_form_wrapper> <div id=lg> <img hidefocus=true src=//www.baidu.com/img/bd_logo1.png width=270 height=129> </div> <form id=form name=f action=//www.baidu.com/s class=fm> <input type=hidden name=bdorz_come value=1> <input type=hidden name=ie value=utf-8> <input type=hidden name=f value=8> <input type=hidden name=rsv_bp value=1> <input type=hidden name=rsv_idx value=1> <input type=hidden name=tn value=baidu><span class=\"bg s_ipt_wr\"><input id=kw name=wd class=s_ipt value maxlength=255 autocomplete=off autofocus></span><span class=\"bg s_btn_wr\"><input type=submit id=su value=ç\\x99¾åº¦ä¸\\x80ä¸\\x8b class=\"bg s_btn\"></span> </form> </div> </div> <div id=u1> <a href=http://news.baidu.com name=tj_trnews class=mnav>æ\\x96°é\\x97»</a> <a href=http://www.hao123.com name=tj_trhao123 class=mnav>hao123</a> <a href=http://map.baidu.com name=tj_trmap class=mnav>å\\x9c°å\\x9b¾</a> <a href=http://v.baidu.com name=tj_trvideo class=mnav>è§\\x86é¢\\x91</a> <a href=http://tieba.baidu.com name=tj_trtieba class=mnav>è´´å\\x90§</a> <noscript> <a href=http://www.baidu.com/bdorz/login.gif?login&amp;tpl=mn&amp;u=http%3A%2F%2Fwww.baidu.com%2f%3fbdorz_come%3d1 name=tj_login class=lb>ç\\x99»å½\\x95</a> </noscript> <script>document.write(\\'<a href=\"http://www.baidu.com/bdorz/login.gif?login&tpl=mn&u=\\'+ encodeURIComponent(window.location.href+ (window.location.search === \"\" ? \"?\" : \"&\")+ \"bdorz_come=1\")+ \\'\" name=\"tj_login\" class=\"lb\">ç\\x99»å½\\x95</a>\\');</script> <a href=//www.baidu.com/more/ name=tj_briicon class=bri style=\"display: block;\">æ\\x9b´å¤\\x9aäº§å\\x93\\x81</a> </div> </div> </div> <div id=ftCon> <div id=ftConw> <p id=lh> <a href=http://home.baidu.com>å\\x85³äº\\x8eç\\x99¾åº¦</a> <a href=http://ir.baidu.com>About Baidu</a> </p> <p id=cp>&copy;2017&nbsp;Baidu&nbsp;<a href=http://www.baidu.com/duty/>ä½¿ç\\x94¨ç\\x99¾åº¦å\\x89\\x8då¿\\x85è¯»</a>&nbsp; <a href=http://jianyi.baidu.com/ class=cp-feedback>æ\\x84\\x8fè§\\x81å\\x8f\\x8dé¦\\x88</a>&nbsp;äº¬ICPè¯\\x81030173å\\x8f·&nbsp; <img src=//www.baidu.com/img/gs.gif> </p> </div> </div> </div> </body> </html>\\r\\n'"
      ]
     },
     "execution_count": 5,
     "metadata": {},
     "output_type": "execute_result"
    }
   ],
   "source": [
    "r.text"
   ]
  },
  {
   "cell_type": "code",
   "execution_count": 6,
   "metadata": {},
   "outputs": [
    {
     "data": {
      "text/plain": [
       "'ISO-8859-1'"
      ]
     },
     "execution_count": 6,
     "metadata": {},
     "output_type": "execute_result"
    }
   ],
   "source": [
    "r.encoding"
   ]
  },
  {
   "cell_type": "code",
   "execution_count": 7,
   "metadata": {},
   "outputs": [
    {
     "data": {
      "text/plain": [
       "'utf-8'"
      ]
     },
     "execution_count": 7,
     "metadata": {},
     "output_type": "execute_result"
    }
   ],
   "source": [
    "r.apparent_encoding"
   ]
  },
  {
   "cell_type": "code",
   "execution_count": 8,
   "metadata": {},
   "outputs": [
    {
     "data": {
      "text/plain": [
       "b'<!DOCTYPE html>\\r\\n<!--STATUS OK--><html> <head><meta http-equiv=content-type content=text/html;charset=utf-8><meta http-equiv=X-UA-Compatible content=IE=Edge><meta content=always name=referrer><link rel=stylesheet type=text/css href=http://s1.bdstatic.com/r/www/cache/bdorz/baidu.min.css><title>\\xe7\\x99\\xbe\\xe5\\xba\\xa6\\xe4\\xb8\\x80\\xe4\\xb8\\x8b\\xef\\xbc\\x8c\\xe4\\xbd\\xa0\\xe5\\xb0\\xb1\\xe7\\x9f\\xa5\\xe9\\x81\\x93</title></head> <body link=#0000cc> <div id=wrapper> <div id=head> <div class=head_wrapper> <div class=s_form> <div class=s_form_wrapper> <div id=lg> <img hidefocus=true src=//www.baidu.com/img/bd_logo1.png width=270 height=129> </div> <form id=form name=f action=//www.baidu.com/s class=fm> <input type=hidden name=bdorz_come value=1> <input type=hidden name=ie value=utf-8> <input type=hidden name=f value=8> <input type=hidden name=rsv_bp value=1> <input type=hidden name=rsv_idx value=1> <input type=hidden name=tn value=baidu><span class=\"bg s_ipt_wr\"><input id=kw name=wd class=s_ipt value maxlength=255 autocomplete=off autofocus></span><span class=\"bg s_btn_wr\"><input type=submit id=su value=\\xe7\\x99\\xbe\\xe5\\xba\\xa6\\xe4\\xb8\\x80\\xe4\\xb8\\x8b class=\"bg s_btn\"></span> </form> </div> </div> <div id=u1> <a href=http://news.baidu.com name=tj_trnews class=mnav>\\xe6\\x96\\xb0\\xe9\\x97\\xbb</a> <a href=http://www.hao123.com name=tj_trhao123 class=mnav>hao123</a> <a href=http://map.baidu.com name=tj_trmap class=mnav>\\xe5\\x9c\\xb0\\xe5\\x9b\\xbe</a> <a href=http://v.baidu.com name=tj_trvideo class=mnav>\\xe8\\xa7\\x86\\xe9\\xa2\\x91</a> <a href=http://tieba.baidu.com name=tj_trtieba class=mnav>\\xe8\\xb4\\xb4\\xe5\\x90\\xa7</a> <noscript> <a href=http://www.baidu.com/bdorz/login.gif?login&amp;tpl=mn&amp;u=http%3A%2F%2Fwww.baidu.com%2f%3fbdorz_come%3d1 name=tj_login class=lb>\\xe7\\x99\\xbb\\xe5\\xbd\\x95</a> </noscript> <script>document.write(\\'<a href=\"http://www.baidu.com/bdorz/login.gif?login&tpl=mn&u=\\'+ encodeURIComponent(window.location.href+ (window.location.search === \"\" ? \"?\" : \"&\")+ \"bdorz_come=1\")+ \\'\" name=\"tj_login\" class=\"lb\">\\xe7\\x99\\xbb\\xe5\\xbd\\x95</a>\\');</script> <a href=//www.baidu.com/more/ name=tj_briicon class=bri style=\"display: block;\">\\xe6\\x9b\\xb4\\xe5\\xa4\\x9a\\xe4\\xba\\xa7\\xe5\\x93\\x81</a> </div> </div> </div> <div id=ftCon> <div id=ftConw> <p id=lh> <a href=http://home.baidu.com>\\xe5\\x85\\xb3\\xe4\\xba\\x8e\\xe7\\x99\\xbe\\xe5\\xba\\xa6</a> <a href=http://ir.baidu.com>About Baidu</a> </p> <p id=cp>&copy;2017&nbsp;Baidu&nbsp;<a href=http://www.baidu.com/duty/>\\xe4\\xbd\\xbf\\xe7\\x94\\xa8\\xe7\\x99\\xbe\\xe5\\xba\\xa6\\xe5\\x89\\x8d\\xe5\\xbf\\x85\\xe8\\xaf\\xbb</a>&nbsp; <a href=http://jianyi.baidu.com/ class=cp-feedback>\\xe6\\x84\\x8f\\xe8\\xa7\\x81\\xe5\\x8f\\x8d\\xe9\\xa6\\x88</a>&nbsp;\\xe4\\xba\\xacICP\\xe8\\xaf\\x81030173\\xe5\\x8f\\xb7&nbsp; <img src=//www.baidu.com/img/gs.gif> </p> </div> </div> </div> </body> </html>\\r\\n'"
      ]
     },
     "execution_count": 8,
     "metadata": {},
     "output_type": "execute_result"
    }
   ],
   "source": [
    "r.content"
   ]
  },
  {
   "cell_type": "code",
   "execution_count": 9,
   "metadata": {},
   "outputs": [
    {
     "data": {
      "text/plain": [
       "'<!DOCTYPE html>\\r\\n<!--STATUS OK--><html> <head><meta http-equiv=content-type content=text/html;charset=utf-8><meta http-equiv=X-UA-Compatible content=IE=Edge><meta content=always name=referrer><link rel=stylesheet type=text/css href=http://s1.bdstatic.com/r/www/cache/bdorz/baidu.min.css><title>百度一下，你就知道</title></head> <body link=#0000cc> <div id=wrapper> <div id=head> <div class=head_wrapper> <div class=s_form> <div class=s_form_wrapper> <div id=lg> <img hidefocus=true src=//www.baidu.com/img/bd_logo1.png width=270 height=129> </div> <form id=form name=f action=//www.baidu.com/s class=fm> <input type=hidden name=bdorz_come value=1> <input type=hidden name=ie value=utf-8> <input type=hidden name=f value=8> <input type=hidden name=rsv_bp value=1> <input type=hidden name=rsv_idx value=1> <input type=hidden name=tn value=baidu><span class=\"bg s_ipt_wr\"><input id=kw name=wd class=s_ipt value maxlength=255 autocomplete=off autofocus></span><span class=\"bg s_btn_wr\"><input type=submit id=su value=百度一下 class=\"bg s_btn\"></span> </form> </div> </div> <div id=u1> <a href=http://news.baidu.com name=tj_trnews class=mnav>新闻</a> <a href=http://www.hao123.com name=tj_trhao123 class=mnav>hao123</a> <a href=http://map.baidu.com name=tj_trmap class=mnav>地图</a> <a href=http://v.baidu.com name=tj_trvideo class=mnav>视频</a> <a href=http://tieba.baidu.com name=tj_trtieba class=mnav>贴吧</a> <noscript> <a href=http://www.baidu.com/bdorz/login.gif?login&amp;tpl=mn&amp;u=http%3A%2F%2Fwww.baidu.com%2f%3fbdorz_come%3d1 name=tj_login class=lb>登录</a> </noscript> <script>document.write(\\'<a href=\"http://www.baidu.com/bdorz/login.gif?login&tpl=mn&u=\\'+ encodeURIComponent(window.location.href+ (window.location.search === \"\" ? \"?\" : \"&\")+ \"bdorz_come=1\")+ \\'\" name=\"tj_login\" class=\"lb\">登录</a>\\');</script> <a href=//www.baidu.com/more/ name=tj_briicon class=bri style=\"display: block;\">更多产品</a> </div> </div> </div> <div id=ftCon> <div id=ftConw> <p id=lh> <a href=http://home.baidu.com>关于百度</a> <a href=http://ir.baidu.com>About Baidu</a> </p> <p id=cp>&copy;2017&nbsp;Baidu&nbsp;<a href=http://www.baidu.com/duty/>使用百度前必读</a>&nbsp; <a href=http://jianyi.baidu.com/ class=cp-feedback>意见反馈</a>&nbsp;京ICP证030173号&nbsp; <img src=//www.baidu.com/img/gs.gif> </p> </div> </div> </div> </body> </html>\\r\\n'"
      ]
     },
     "execution_count": 9,
     "metadata": {},
     "output_type": "execute_result"
    }
   ],
   "source": [
    "import requests\n",
    "\n",
    "def getHTMLText(url):\n",
    "    try:\n",
    "        r=requests.get(url,timeout=30)\n",
    "        r.raise_for_status()\n",
    "        r.encoding=r.apparent_encoding\n",
    "        return r.text\n",
    "    except:\n",
    "        return \"产生异常\"\n",
    "    \n",
    "url=\"http://www.baidu.com\"\n",
    "getHTMLText(url)"
   ]
  },
  {
   "cell_type": "code",
   "execution_count": 10,
   "metadata": {},
   "outputs": [
    {
     "data": {
      "text/plain": [
       "'产生异常'"
      ]
     },
     "execution_count": 10,
     "metadata": {},
     "output_type": "execute_result"
    }
   ],
   "source": [
    "url=\"www.baidu.com\"\n",
    "getHTMLText(url)"
   ]
  },
  {
   "cell_type": "code",
   "execution_count": 11,
   "metadata": {},
   "outputs": [
    {
     "data": {
      "text/plain": [
       "'                                <!DOCTYPE html><html><head><meta http-equiv=\"X-UA-Compatible\" content=\"IE=edge\"><meta name=\"save\" content=\"history\" /><link rel=\"shortcut icon\" href=\"/favicon.ico\"/><title>北京邮电大学</title><meta http-equiv=\"Content-Type\" content=\"text/html; charset=gb2312\" /><link rel=\"stylesheet\" type=\"text/css\" href=\"https://rescdn.qqmail.com/bizmail/zh_CN/htmledition/style/login_setting_portal53b3ca.css\" /><link rel=\"stylesheet\" type=\"text/css\" href=\"https://rescdn.qqmail.com/bizmail/zh_CN/htmledition/style/biz_v3_helper5fcb28.css\"><link rel=\"stylesheet\" type=\"text/css\" href=\"https://rescdn.qqmail.com/bizmail/zh_CN/htmledition/style/wwbiz/official_index618b9e.css\" /><style type=\"text/css\">a{ color:#34599e;}.self_preview_04 a{ color:#C0D2F4;}.self_preview_01{ color:#798699;}.self_preview_02{ color:#a0a0a0;}.self_preview_03{ color:#798699;}.self_preview_04{ color:#C0D2F4;}#preview_box{ color:#C0D2F4;}#preview_box a{ color:#C0D2F4;text-decoration: none;}.bg_color{ background:#eaf3ff;}.border_color{ border:1px solid #acc3e4;}.company_link{color:#C0D2F4; }</style><script src=\"https://rescdn.qqmail.com/bizmail/zh_CN/htmledition/js_biz/3rd/bj-report-tryjs.min462fbf.js\"></script><script src=\"https://rescdn.qqmail.com/bizmail/zh_CN/htmledition/js_biz/all61f5bd.js\" type=\"text/javascript\"></script><script>\\nvar JsChecker =\\n{\\nisreload:false,\\ncheck:function(_asFile)\\n{\\nreturn typeof window[(/[0-9a-fA-F]{6}$/.test(_asFile) ? _asFile.substr(0,_asFile.length - 6) : _asFile) + \"_js\"] == \"function\";\\n},\\nload:function(_aoFiles, _abIsReload)\\n{\\nfor (var i = 0, _nLen = _aoFiles.length; i < _nLen; i++)\\n{\\nvar _sFile = _aoFiles[i];\\nif (_sFile && (!_abIsReload || !JsChecker.check(_sFile)))\\n{\\ndocument.write(\"<script\", \" language=\\'javascript\\' src=\\'https://rescdn.qqmail.com/bizmail/zh_CN/htmledition/js_biz/\", _sFile, \".js\",\\n_abIsReload ? \"?\" + Math.random() : \"\", \"\\'></\", \"script>\");\\n_abIsReload && (JsChecker.isreload = true);\\n}\\n}\\n}\\n};\\n</script><script>JsChecker.load([\"safeauth462fc5\"]);</script><script>JsChecker.load([\"safeauth462fc5\"], true);</script><script>\\nBJ_REPORT.init({\\n  id: 1230\\n});\\nBJ_REPORT.tryJs().spyAll();\\n</script><script>\\n(function()\\n{\\nif (!JsChecker.check(\"safeauth462fc5\"))\\n{\\nvar _sHref = location.href;\\nlocation.replace(_sHref + (_sHref.indexOf(\"?\") == -1 ? \"?\" : \"&\") + \"res=local\");\\n}\\n}\\n)();\\n(function()\\n{\\nif (JsChecker.isreload)\\n{\\nwindow.netTrans = new Image();\\nwindow.netTrans.src = [\"/cgi-bin/getinvestigate?flowid=&stat=jsdownloadfail&res=&jsfailtime=\", \\nJsChecker.check(\"safeauth462fc5\") ? 1 : 2, \"&r=\", Math.random()].join(\"\");\\n}\\n}\\n)();\\n\\nfunction setCookieAlias(_asValue, _asDomain)\\n{\\nvar _oDate = new Date( new Date().valueOf() + 7 * 24 * 3600 * 1000 );\\nvar _sCookie = \"qqmail_alias=\" + escape(_asValue) + \"; expires=\" + _oDate.toGMTString() + \"; path=/; domain=\" + _asDomain;\\ndocument.cookie = _sCookie;\\n}\\n\\ntry {\\nvar pp = document.form1.pp.value;\\nvar is_all_zero = true;\\nfor (var i = 0; i < pp.length; i++) {\\nif (pp.charAt(i) != 0) {\\nis_all_zero = false;\\n}\\n}\\nif (is_all_zero) {\\ndocument.form1.pp.value = \\'\\';\\n}\\n} catch(e) {}\\n\\nfunction checkInput()\\n{\\nwindow.org_pass=S(\"pp\").value;\\nif (!window.RSAKey)\\n{\\ndocument.getElementById(\"downError\").style.display = \"block\";\\ndocument.getElementById(\"returnMsg\").style.display = \"none\";\\nreturn false;\\n}\\nif( !checkCookie() )\\n{\\nreturn false;\\n}\\n\\n\\n\\nvar inputUin = document.form1.qquin.value.toLowerCase();\\nif( inputUin == \"\" )\\n{\\nshowMsg(\"emptyUserName\");\\ndocument.form1.qquin.focus();\\nreturn false;\\n}\\n\\n\\nvar re = /^\\\\d+$/;\\n\\nif( inputUin.indexOf( \"@qq.com\" ) > 0 || inputUin.indexOf( \"@vip.qq.com\" ) > 0 || inputUin.indexOf( \"@foxmail.com\" ) > 0 )\\n{\\nshowMsg( \"errorLoginWithQQAccount\" );\\nreturn false;\\n}\\n\\nelse if( inputUin.indexOf( \"@\" ) > -1  )\\n{\\nshowMsg( \"errorUserName\" );\\nreturn false;\\n}\\n\\nelse\\n{\\ndocument.form1.uin.value = document.form1.qquin.value + \"@bupt.cn\";\\n}\\nif( document.form1.pp.value == \"\" )\\n{\\nshowMsg(\"emptyPassword\");\\ndocument.form1.pp.focus();\\nreturn false;\\n}\\n\\nif( document.form1.pp.value.length >= 100 )\\n{\\nshowMsg(\"errorPassowrdTooLong\");\\ndocument.form1.pp.focus();\\nreturn false;\\n}\\n\\nif( S(\"VerifyArea\").style.display != \"none\" )\\n{\\nif (document.form1.verifycode.value == \"验证码\")\\n{\\ndocument.form1.verifycode.value = \"\";\\n}\\nif (document.form1.verifycode.value == \"\")\\n{\\nshowMsg(\"emptyVerifyCode\");\\ndocument.form1.verifycode.focus();\\nreturn false;\\n}\\n}\\nelse\\n{\\ndocument.form1.verifycode.value = \"\";\\n}\\n\\n\\nvar PublicKey = \"CF87D7B4C864F4842F1D337491A48FFF54B73A17300E8E42FA365420393AC0346AE55D8AFAD975DFA175FAF0106CBA81AF1DDE4ACEC284DAC6ED9A0D8FEB1CC070733C58213EFFED46529C54CEA06D774E3CC7E073346AEBD6C66FC973F299EB74738E400B22B1E7CDC54E71AED059D228DFEB5B29C530FF341502AE56DDCFE9\";\\nvar RSA = new RSAKey();\\nRSA.setPublic(PublicKey, \"10001\");\\nvar PublicTs=\"1669530982\";\\n\\nvar Res = RSA.encrypt(document.form1.pp.value + \\'\\\\n\\' + document.form1.ts.value + \\'\\\\n\\');\\nif (Res )\\n{\\nif (document.form1.chg.value == 1)\\n{\\ndocument.form1.p.value = hex2b64(Res);\\n}\\nelse\\n{\\nif (document.form1.ppp.value != \"\")\\n{\\ndocument.form1.p.value = document.form1.ppp.value;\\n}\\nelse\\n{\\ndocument.form1.p.value = hex2b64(Res);\\n}\\n}\\n}\\nvar MaskValue = \"\";\\nfor (var Loop = 0; Loop < document.form1.pp.value.length; Loop++, MaskValue += \"0\");\\ndocument.form1.pp.value = MaskValue;\\n\\nsetCookieAlias(document.form1.uin.value, document.form1.domain.value);\\n\\nreturn true;\\n}\\n\\nfunction CheckName()\\n{\\nvar _account = document.form1.qquin.value.toLowerCase();\\n\\nif( _account.indexOf( \"@qq.com\" ) > 0 || _account.indexOf( \"@vip.qq.com\" ) > 0 || _account.indexOf( \"@foxmail.com\" ) > 0 )\\n{\\nshowMsg( \"errorLoginWithQQAccount\" );\\nreturn false;\\n}\\nelse if( S(\"errorLoginWithQQAccount\" ) != null )\\n{\\nS( \"msgContainer\" ).innerHTML = \"\";\\nS( \"msgContainer\" ).style.display = \"none\";\\nreturn true;\\n}\\n}\\n\\nfunction checkCookie() {\\n\\nvar agt,cookieEnabled,isSafari, number;\\n\\nagt             = navigator.userAgent.toLowerCase();\\ncookieEnabled   = navigator.cookieEnabled;\\nisSafari        = ( agt.indexOf(\"safari\") != -1 );\\n\\n\\nif( !cookieEnabled ) {\\nS(\"infobarNoCookie\").style.display = \"block\";\\nreturn false;\\n}\\nelse {\\nreturn true;\\n}\\n}\\n\\nfunction changeimg()\\n{\\nS(\\'vfcode\\').src = \\'/cgi-bin/getverifyimage?aid=23000101&f=html&ck=1&\\' + Math.random();\\n}\\n\\nfunction showMsg(msgId)\\n{\\nvar msg, msgTemplate, txt;\\n\\nmsg = {\\nerrorUserName       : \"你输入的邮箱帐号不正确，请重新输入\",\\nemptyUserName       : \"请填写你的邮箱帐号\",\\nemptyPassword       : \"请填写邮箱密码\",\\nemptyVerifyCode     : \"请填写验证码\",\\nerrorPassowrdTooLong: \"邮箱密码不能超过100个字符\",\\n\\nerrorNamePassowrd   : \"你填写的帐号或密码不正确，请再次尝试\",\\nerrorVerifyCode     : \"你填写的验证码不正确\",\\nfrequent            : \"为了保障邮箱安全，请输入验证码\",\\nerrorBlockIPErr: \"你的IP已被暂时屏蔽，不能登录，请迟一些时候再尝试\",\\nerrorDistinctValid: \"为了你邮箱帐号的安全，请再次输入验证码登录\",\\nerrorPermissionDenied:\"你没有权限登录\",\\nerrorLoginWithQQAccount: \"请使用企业邮箱帐号登录\",\\nerrorBizmailMX: \"登录失败。你域名的MX记录未通过验证，请联系管理员\",\\nerrorBindNullUin: \"帐号为空，请重输\",\\nerrorBindErr: \"帐号绑定关系错误，请联系管理员\",\\nerrorBindFail: \"帐号绑定关系查询出错，请稍后再试\",\\nerrorLogout: \"你已成功退出邮箱\",\\nerrorTimeout: \"你的邮箱被退出\",\\nerrorInactive: \"你的帐号被禁用，请联系你的管理员\",\\nerrorBizmailLoginLimit : \"管理员限制该IP登录企业邮箱\"\\n};\\n\\nmsgTemplate = \\'<div class=\"error\" id=\"%_id_%\">%_msg_%</div>\\';\\ntxt = msg[ msgId ];\\n\\nif (msgId != undefined && msgId != \"\" && txt != undefined)\\n{\\nS( \"msgContainer\" ).innerHTML = msgTemplate.replace( /%_msg_%/ig , txt ).replace( /%_id_%/ig , msgId );\\nS( \"msgContainer\" ).style.display = \"\";\\nif (S( \"pwd_content\" )) {\\nS( \"pwd_content\" ).style.display = \"\";\\n}\\nif (S( \"wechat_content\" )) {\\nS( \"wechat_content\" ).style.display = \"none\";\\n}\\nif (S( \"phone_content\" )) {\\nS( \"phone_content\" ).style.display = \"none\";\\n}\\n\\nwindow.hasErrMsg = true;\\nreturn true;\\n}\\n}\\n\\nfunction addClass(_aoDom, _asClass)\\n{\\nvar _sClassName = \" \" + _aoDom.className + \" \";\\nif (_sClassName.indexOf(\" \" + _asClass + \" \") < 0)\\n{\\n    _aoDom.className += _aoDom.className ? \" \" + _asClass : _asClass;\\n}\\n}\\nfunction rmClass(_aoDom, _asClass)\\n{\\nvar _sClassName = \" \" + _aoDom.className + \" \";\\n_sClassName = _sClassName.replace(\" \" + _asClass + \" \", \" \");\\n_aoDom.className = _sClassName;\\n}\\n\\nfunction focusUin()\\n{\\nvar _oUin = document.getElementById(\"qquin\");\\n_oUin.style.color = \"#4d4d4c\";\\n_oUin.value = (\"帐号\" == _oUin.value) ? \"\" : _oUin.value;\\n// var _oSpan = document.getElementById(\"qquin\").parentNode;\\n// addClass(_oSpan, \"input_active\");\\n}\\nfunction blurUin()\\n{\\nCheckName();\\nvar _oUin = document.getElementById(\"qquin\");\\n_oUin.style.color = (\"\" == _oUin.value) ? \"#a0a0a0\" : \"#4d4d4c\";\\n_oUin.value = (\"\" == _oUin.value) ? \"\" : _oUin.value;\\n// var _oSpan = document.getElementById(\"qquin\").parentNode;\\n// rmClass(_oSpan, \"input_active\");\\n}\\n\\nfunction focusPT()\\n{\\nCheckName();\\nvar _oPP = document.getElementById(\"pp\"),\\n_oPT = document.getElementById(\"pptext\");\\n\\n//  _oPP.className = \"self_input input_active\";\\n _oPP.className = \"self_input\";\\n _oPT.style.display = \"none\";\\n _oPP.style.display = \"\";\\n _oPP.focus();\\n }\\nfunction keyupPP(event)\\n{\\nvar gsAgent = navigator.userAgent.toLowerCase(),\\ngbIsOpera = gsAgent.indexOf(\"opera\") > -1,\\ngbIsIE = (gsAgent.indexOf(\"compatible\") > -1 && !gbIsOpera)|| gsAgent.indexOf(\"msie\") > -1,\\ngnIEVer = /MSIE (\\\\d+.\\\\d+);/i.test(gsAgent) && parseFloat(RegExp[\"$1\"]);\\n\\nif(!gbIsIE || (gbIsIE && gnIEVer <= 9)){\\nvar caps_lock_tips = document.getElementById(\"caps_lock_tips\");\\n\\nvar dom = document.getElementById(\"pp\");\\nvar code = event.keyCode || event.which;\\nisShift = (event.shiftKey || 16 == code || false);\\nif(!dom.value)\\n{\\ncaps_lock_tips.style.display = \"none\";\\nreturn false;\\n}\\n\\nvar newKey = event.key;\\nif(/^[A-Z]+$/.test(newKey) && caps_lock_tips.style.display != \"block\" && !isShift)\\n{\\ncaps_lock_tips.style.display = \"block\";\\n}\\nelse if(!/^[A-Z]+$/.test(newKey) && caps_lock_tips.style.display != \"none\")\\n{\\ncaps_lock_tips.style.display = \"none\";\\n}\\n}\\n\\n}\\nfunction focusPP()\\n{\\nCheckName();\\n// var _oPP = document.getElementById(\"pp\");\\n// addClass(_oPP,\"input_active\");\\n}\\nfunction blurPP2()\\n{\\n// var _oPP = document.getElementById(\"pp\");\\n// rmClass(_oPP,\"input_active\");\\n\\nvar caps_lock_tips = document.getElementById(\"caps_lock_tips\");\\ncaps_lock_tips.style.display = \"none\";\\n}\\nfunction blurPP()\\n{\\n\\nvar _oPP = document.getElementById(\"pp\"),\\n_oPT = document.getElementById(\"pptext\");\\n\\n_oPP.className = \"self_input\";\\n\\nif (\"\" == _oPP.value)\\n{\\n_oPP.style.display = \"none\";\\n_oPT.style.display = \"\";\\n}\\nvar caps_lock_tips = document.getElementById(\"caps_lock_tips\");\\ncaps_lock_tips.style.display = \"none\";\\n}\\n\\nfunction focusVC()\\n{\\nvar _oVC = document.getElementById(\"vc\");\\n_oVC.style.color = \"#4d4d4c\";\\n_oVC.value = (\"验证码\" == _oVC.value) ? \"\" : _oVC.value;\\n// addClass(document.getElementById(\"vc\"),\"input_active\");\\n}\\nfunction blurVC()\\n{\\nvar _oVC = document.getElementById(\"vc\");\\n_oVC.style.color = (\"\" == _oVC.value) ? \"#a0a0a0\" : \"#4d4d4c\";\\n_oVC.value = (\"\" == _oVC.value) ? \"验证码\" : _oVC.value;\\n// rmClass(document.getElementById(\"vc\"),\"input_active\");\\n}\\nfunction init()\\n{\\nvar o =S(\\'qquin\\');\\ntry{\\nif( o.value==\\'\\')\\n{\\no.focus();\\n}\\nelse\\n{\\nS(\\'pp\\').focus();\\n}\\n}catch(ex){}\\n\\nvar bAlwaysShowVerifyCode = (false == true);\\nS(\"VerifyArea\").style.display = ( bAlwaysShowVerifyCode  ? \"inline\" : \"none\" );\\ncheckCookie();\\nCheckName();\\n}\\n</script></head><body class=\"self_dm_login layout_wrap_04\"><form name=\"form1\" method=\"post\" action=\"/cgi-bin/login\" onSubmit=\"return checkInput();\" ><input type=\"hidden\" name=\"fingerprint_deviceid\" value=\"\"/><input type=\"hidden\" name=\"device_type\" value=\"web\"/><input type=\"hidden\" name=\"device_name\" value=\"\"/><input type=\"hidden\" name=\"sid\" value=\"\"/><input type=\"hidden\" name=\"uin\" value=\"\"/><input type=\"hidden\" name=\"domain\" value=\"bupt.cn\" /><input type=\"hidden\" name=\"aliastype\" value=\"other\"/><input type=\"hidden\" name=\"errtemplate\" value=\"logindomain\"/><input type=\"hidden\" name=\"firstlogin\" value=\"false\"/><input type=\"hidden\" name=\"f\" value=\"html\"/><input type=\"hidden\" name=\"p\"/><input type=\"hidden\" name=\"delegate_url\" value=\"\" /><input type=\"hidden\" name=\"ppp\" value=\"\" /><input type=\"hidden\" name=\"ts\" value=\"1669530982\" /><input type=\"hidden\" name=\"chg\" value=\"0\" /><input type=\"hidden\" name=\"fun\"/><input type=\"hidden\" name=\"vt\"/><input type=\"hidden\" name=\"inputuin\"/><input type=\"hidden\" name=\"wx_login_code\"><input type=\"hidden\" name=\"t\"><input type=\"hidden\" name=\"ef\"><input type=\"hidden\" name=\"login_from\" value=\"mail_login_bupt.cn\"><div class=\"self_preview_04\" id=\"preview_box\"><div id=\"preview_mask\" style=\"\"></div><div class=\"self_preview_wrap\"><div class=\"preview_head\"><div class=\"company_logo edit_issue\"><img style=\"margin-top:0px;margin-left:39px;\" class=\"logo_img\" src=\"/cgi-bin/viewfile?type=skin&domain=&f=14217A43806E5DEC06177943AA3728CFAAED82A153240B3362F7F323BDFC4020&skin_modtime=1617334013\" alt=\"\"/></div></div><div class=\"company_main\"><div class=\"company_main_wrap\"><div class=\"company_pic edit_issue\"><img src=\"/cgi-bin/viewfile?type=skin&domain=&f=14217A43806E5DEC06177943AA3728CFAAED82A153240B333191E1119499949D&skin_modtime=1617334013\" style=\"margin-top:0px;margin-left:0px;\" /></div><p class=\"bg_color edit_issue\" >厚德博学&nbsp;敬业乐群</p><div class=\"company_loginbox bg_color border_color edit_issue\"><div id=\"js_input_area\"><h3>登录邮箱</h3><div class=\"company_input_wrap kd_04_uin\" style=\"display: inline-block; vertical-align: middle;height: 34px;\"><span class=\"input_with_domain\" style=\"position: relative;\"><input type=\"text\" id=\"qquin\" name=\"qquin\" value=\"\" tabindex=\"1\" class=\"self_input   \" onfocus=\"focusUin()\" onblur=\"blurUin()\" /><span class=\"domain_play\" title=\"@bupt.cn\">@bupt.cn</span></span></div><div class=\"company_input_wrap\"><input type=\"password\" id=\"pp\" name=\"pp\" style=\"display:none;\" tabindex=\"2\" class=\"self_input input_active\" onkeyup=\"keyupPP(event)\" onblur=\"blurPP()\" /><input type=\"password\" id=\"pptext\" data-cn=\"密码\" data-en=\"Password\" placeholder=\"密码\" tabindex=\"2\" class=\"self_input gray\"  onkeyup=\"keyupPP(event)\" onfocus=\"focusPT()\" /><div class=\"lock_tips lock_tips_PT04\" id=\"caps_lock_tips\" style=\"display: none;\"><span class=\"lock_tips_row\"></span><span>大写锁定已打开</span></div></div><div id=\"VerifyArea\" class=\"company_input_wrap verifor4\" style=\"\"><input type=\"text\" id=\"vc\" name=\"verifycode\" tabindex=\"3\" autocomplete=\"off\" class=\"self_input gray\" value=\"验证码\" onfocus=\"focusVC()\" onblur=\"blurVC()\" /><div class=\"self_tips\"><div class=\"self_veri_img\"><script type=\"text/javascript\">\\ndocument.write(\"<img id=\\'vfcode\\' src=\\'/cgi-bin/getverifyimage?aid=23000101&f=html&ck=1&\",Math.random(),\"\\' style=\\'cursor:pointer;border:1px solid #e4eef9\\' onclick=\\'changeimg()\\'>\");\\n</script></div><div><a style=\"color:#a0a0a0;\" href=\"javascript:changeimg()\">换一个</a></div></div></div><div class=\"login_submit\" style=\"display: inline-block;vertical-align: middle; position: relative;top:-5px\"><a class=\"login_btn_wrapper\" href=\"javascript:;\"><input class=\"login_btn\" type=\"submit\" data-cn=\"登录\" data-en=\"Login\" value=\"登录\" /></a><a class=\"admin_login_link\" href=\"http://exmail.qq.com/login\">管理员登录</a><span style=\"margin: 0 3px;\">|</span><a href=\"/cgi-bin/readtemplate?check=false&t=biz_rf_portal#recovery\">忘记密码？</a></div><div id=\"msgContainer\" class=\"login_box_msg\" style=\"display:none;\">提示区域</div></div></div></div></div><div class=\"company_bottom\"><div class=\"company_link bg_color edit_issue\"><a href=\"http://www.tencent.com\" target=\"_blank\">关于腾讯</a></div><div class=\"company_copyright edit_issue\">&copy;&nbsp;<span>1998&nbsp;-&nbsp;2021&nbsp;Tencent&nbsp;Inc.&nbsp;All&nbsp;Rights&nbsp;Reserved</span><a id=\"beian_tag\" style=\"display: block;color: #C0D2F4;font-size: 12px;text-align: center;text-decoration:underline;\" href=\"https://beian.miit.gov.cn/\" target=\"_blank\">京ICP备14033833号-1</a></div></div><div id=\"EditWrap\"></div><div id=\"EditWrap2\"></div></div></div></body><script>init();</script><script type=\"text/javascript\" src=\"https://rescdn.qqmail.com/bizmail/zh_CN/htmledition/js_biz/lib/jquery/jquery-3.5.0.min5f85b7.js\"></script><script type=\"text/javascript\" src=\"https://rescdn.qqmail.com/bizmail/zh_CN/htmledition/js_biz/home/new_index/lib/jqueryplugin/throttle-debounce462fc5.js\"></script><script type=\"text/javascript\" src=\"https://rescdn.qqmail.com/bizmail/zh_CN/htmledition/js_biz/home/new_index/lib/nano462fc5.js\"></script><script type=\"text/javascript\" src=\"https://rescdn.qqmail.com/bizmail/zh_CN/htmledition/js_biz/home/new_index/lib/dropdown/dropDownTpl462fc5.js\"></script><script type=\"text/javascript\" src=\"https://rescdn.qqmail.com/bizmail/zh_CN/htmledition/js_biz/home/new_index/lib/dropdown/dropDownItemTpl527dd7.js\"></script><script type=\"text/javascript\" src=\"https://rescdn.qqmail.com/bizmail/zh_CN/htmledition/js_biz/home/new_index/lib/dropdown/dropdown5fcb24.js\"></script><script type=\"text/javascript\" src=\"https://rescdn.qqmail.com/bizmail/zh_CN/htmledition/js_biz/home/new_index/lib/dropdown/countryCodeMap462fc5.js\"></script><script type=\"text/javascript\" src=\"https://rescdn.qqmail.com/bizmail/zh_CN/htmledition/js_biz/home/new_index/lib/dropdown/countryCodeDropDown527dd7.js\"></script><script type=\"text/javascript\" src=\"https://rescdn.qqmail.com/bizmail/zh_CN/htmledition/js_biz/lib/promise/es6-promise462fc8.js\"></script><script type=\"text/javascript\" src=\"https://rescdn.qqmail.com/bizmail/zh_CN/htmledition/js_biz/lib/fingerprintjs/iife.min5c9391.js\"></script><script type=\"text/javascript\" src=\"https://rescdn.qqmail.com/bizmail/zh_CN/htmledition/js_biz/newlogin/add_deviceid5fca50.js\"></script><script type=\"text/javascript\" src=\"https://rescdn.qqmail.com/bizmail/zh_CN/htmledition/js_biz/newlogin/custom_login5fd4b2.js\"></script><script>\\nwindow.addEventListener(\\'message\\', function (e) {\\nif (e.data && e.origin == \\'https://exmail.qq.com\\') {\\nvar url = e.data;\\nif (window.getCookie && window.getCookie(\\'biz_openapi_check\\') && url.indexOf(\\'biz_openapi_check=\\') === -1) {\\nurl = url + \\'&biz_openapi_check=\\' + window.getCookie(\\'biz_openapi_check\\');\\n}\\nlocation.href = url;\\n}\\n}, false);\\nwindow.custom_layout = \\'04\\';\\n</script><script>\\nfunction onChangeLang(cookie) {\\nif (cookie == \\'zh_CN\\' || cookie == \\'en_US\\') {\\nvar _sDomain = location.hostname,\\n_oExpires = new Date(new Date().valueOf() + 30 * 24 * 3600 * 1000),\\n_sCookie = \"qycustom.i18n_lan=\" + cookie + \"; path=/; domain=\" + _sDomain + \"; expires=\" + _oExpires;\\n\\ndocument.cookie = _sCookie;\\nlocation.reload();\\n}\\n}\\n</script><script src=\"https://ssl.captcha.qq.com/TCaptcha.js\"></script></html>'"
      ]
     },
     "execution_count": 11,
     "metadata": {},
     "output_type": "execute_result"
    }
   ],
   "source": [
    "url=\"http://www.bupt.cn\"\n",
    "getHTMLText(url)"
   ]
  },
  {
   "cell_type": "code",
   "execution_count": 12,
   "metadata": {},
   "outputs": [
    {
     "data": {
      "text/plain": [
       "{'Date': 'Sun, 27 Nov 2022 06:36:23 GMT', 'Content-Type': 'application/json', 'Content-Length': '306', 'Connection': 'keep-alive', 'Server': 'gunicorn/19.9.0', 'Access-Control-Allow-Origin': '*', 'Access-Control-Allow-Credentials': 'true'}"
      ]
     },
     "execution_count": 12,
     "metadata": {},
     "output_type": "execute_result"
    }
   ],
   "source": [
    "r=requests.head('http://httpbin.org/get')\n",
    "r.headers"
   ]
  },
  {
   "cell_type": "code",
   "execution_count": 13,
   "metadata": {},
   "outputs": [
    {
     "data": {
      "text/plain": [
       "''"
      ]
     },
     "execution_count": 13,
     "metadata": {},
     "output_type": "execute_result"
    }
   ],
   "source": [
    "r.text"
   ]
  },
  {
   "cell_type": "code",
   "execution_count": 14,
   "metadata": {},
   "outputs": [
    {
     "data": {
      "text/plain": [
       "'{\\n  \"args\": {}, \\n  \"data\": \"\", \\n  \"files\": {}, \\n  \"form\": {\\n    \"key1\": \"value1\", \\n    \"key2\": \"value2\"\\n  }, \\n  \"headers\": {\\n    \"Accept\": \"*/*\", \\n    \"Accept-Encoding\": \"gzip, deflate\", \\n    \"Content-Length\": \"23\", \\n    \"Content-Type\": \"application/x-www-form-urlencoded\", \\n    \"Host\": \"httpbin.org\", \\n    \"User-Agent\": \"python-requests/2.25.1\", \\n    \"X-Amzn-Trace-Id\": \"Root=1-63830568-7b441a61182017e956d16a85\"\\n  }, \\n  \"json\": null, \\n  \"origin\": \"223.72.82.113\", \\n  \"url\": \"http://httpbin.org/post\"\\n}\\n'"
      ]
     },
     "execution_count": 14,
     "metadata": {},
     "output_type": "execute_result"
    }
   ],
   "source": [
    "payload={'key1':'value1','key2':'value2'}\n",
    "r=requests.post('http://httpbin.org/post',data=payload)\n",
    "r.text"
   ]
  },
  {
   "cell_type": "code",
   "execution_count": 15,
   "metadata": {},
   "outputs": [
    {
     "data": {
      "text/plain": [
       "'{\\n  \"args\": {}, \\n  \"data\": \"ABC\", \\n  \"files\": {}, \\n  \"form\": {}, \\n  \"headers\": {\\n    \"Accept\": \"*/*\", \\n    \"Accept-Encoding\": \"gzip, deflate\", \\n    \"Content-Length\": \"3\", \\n    \"Host\": \"httpbin.org\", \\n    \"User-Agent\": \"python-requests/2.25.1\", \\n    \"X-Amzn-Trace-Id\": \"Root=1-63830568-0d9385ca21c4f92402bc0229\"\\n  }, \\n  \"json\": null, \\n  \"origin\": \"223.72.82.113\", \\n  \"url\": \"http://httpbin.org/post\"\\n}\\n'"
      ]
     },
     "execution_count": 15,
     "metadata": {},
     "output_type": "execute_result"
    }
   ],
   "source": [
    "r=requests.post('http://httpbin.org/post',data='ABC')\n",
    "r.text"
   ]
  },
  {
   "cell_type": "code",
   "execution_count": 16,
   "metadata": {},
   "outputs": [
    {
     "data": {
      "text/plain": [
       "'https://python123.io/ws?key1=value1&key2=value2'"
      ]
     },
     "execution_count": 16,
     "metadata": {},
     "output_type": "execute_result"
    }
   ],
   "source": [
    "kv={'key1':'value1','key2':'value2'}\n",
    "r=requests.request('GET','http://python123.io/ws',params=kv)\n",
    "r.url"
   ]
  },
  {
   "cell_type": "code",
   "execution_count": 17,
   "metadata": {},
   "outputs": [],
   "source": [
    "r=requests.request(method='GET',url='http://www.baidu.com',timeout=10)"
   ]
  },
  {
   "cell_type": "code",
   "execution_count": null,
   "metadata": {},
   "outputs": [],
   "source": []
  }
 ],
 "metadata": {
  "kernelspec": {
   "display_name": "Python 3.8.1 64-bit",
   "language": "python",
   "name": "python3"
  },
  "language_info": {
   "codemirror_mode": {
    "name": "ipython",
    "version": 3
   },
   "file_extension": ".py",
   "mimetype": "text/x-python",
   "name": "python",
   "nbconvert_exporter": "python",
   "pygments_lexer": "ipython3",
   "version": "3.8.1"
  },
  "orig_nbformat": 4,
  "vscode": {
   "interpreter": {
    "hash": "2469a70536e4d2335a2ea8907942d0699c37342a371ac185bdb5b0aa6f073890"
   }
  }
 },
 "nbformat": 4,
 "nbformat_minor": 2
}
